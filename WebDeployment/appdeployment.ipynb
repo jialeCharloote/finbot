{
 "cells": [
  {
   "cell_type": "code",
   "execution_count": 1,
   "metadata": {
    "collapsed": true,
    "execution": {
     "iopub.execute_input": "2025-03-16T02:49:42.269038Z",
     "iopub.status.busy": "2025-03-16T02:49:42.268729Z",
     "iopub.status.idle": "2025-03-16T02:50:01.438159Z",
     "shell.execute_reply": "2025-03-16T02:50:01.437101Z",
     "shell.execute_reply.started": "2025-03-16T02:49:42.269015Z"
    },
    "jupyter": {
     "outputs_hidden": true
    },
    "trusted": true
   },
   "outputs": [
    {
     "name": "stdout",
     "output_type": "stream",
     "text": [
      "Collecting bitsandbytes\n",
      "  Downloading bitsandbytes-0.45.3-py3-none-manylinux_2_24_x86_64.whl.metadata (5.0 kB)\n",
      "Requirement already satisfied: torch<3,>=2.0 in /usr/local/lib/python3.10/dist-packages (from bitsandbytes) (2.5.1+cu121)\n",
      "Requirement already satisfied: numpy>=1.17 in /usr/local/lib/python3.10/dist-packages (from bitsandbytes) (1.26.4)\n",
      "Requirement already satisfied: mkl_fft in /usr/local/lib/python3.10/dist-packages (from numpy>=1.17->bitsandbytes) (1.3.8)\n",
      "Requirement already satisfied: mkl_random in /usr/local/lib/python3.10/dist-packages (from numpy>=1.17->bitsandbytes) (1.2.4)\n",
      "Requirement already satisfied: mkl_umath in /usr/local/lib/python3.10/dist-packages (from numpy>=1.17->bitsandbytes) (0.1.1)\n",
      "Requirement already satisfied: mkl in /usr/local/lib/python3.10/dist-packages (from numpy>=1.17->bitsandbytes) (2025.0.1)\n",
      "Requirement already satisfied: tbb4py in /usr/local/lib/python3.10/dist-packages (from numpy>=1.17->bitsandbytes) (2022.0.0)\n",
      "Requirement already satisfied: mkl-service in /usr/local/lib/python3.10/dist-packages (from numpy>=1.17->bitsandbytes) (2.4.1)\n",
      "Requirement already satisfied: filelock in /usr/local/lib/python3.10/dist-packages (from torch<3,>=2.0->bitsandbytes) (3.17.0)\n",
      "Requirement already satisfied: typing-extensions>=4.8.0 in /usr/local/lib/python3.10/dist-packages (from torch<3,>=2.0->bitsandbytes) (4.12.2)\n",
      "Requirement already satisfied: networkx in /usr/local/lib/python3.10/dist-packages (from torch<3,>=2.0->bitsandbytes) (3.4.2)\n",
      "Requirement already satisfied: jinja2 in /usr/local/lib/python3.10/dist-packages (from torch<3,>=2.0->bitsandbytes) (3.1.4)\n",
      "Requirement already satisfied: fsspec in /usr/local/lib/python3.10/dist-packages (from torch<3,>=2.0->bitsandbytes) (2024.12.0)\n",
      "Requirement already satisfied: sympy==1.13.1 in /usr/local/lib/python3.10/dist-packages (from torch<3,>=2.0->bitsandbytes) (1.13.1)\n",
      "Requirement already satisfied: mpmath<1.4,>=1.1.0 in /usr/local/lib/python3.10/dist-packages (from sympy==1.13.1->torch<3,>=2.0->bitsandbytes) (1.3.0)\n",
      "Requirement already satisfied: MarkupSafe>=2.0 in /usr/local/lib/python3.10/dist-packages (from jinja2->torch<3,>=2.0->bitsandbytes) (3.0.2)\n",
      "Requirement already satisfied: intel-openmp>=2024 in /usr/local/lib/python3.10/dist-packages (from mkl->numpy>=1.17->bitsandbytes) (2024.2.0)\n",
      "Requirement already satisfied: tbb==2022.* in /usr/local/lib/python3.10/dist-packages (from mkl->numpy>=1.17->bitsandbytes) (2022.0.0)\n",
      "Requirement already satisfied: tcmlib==1.* in /usr/local/lib/python3.10/dist-packages (from tbb==2022.*->mkl->numpy>=1.17->bitsandbytes) (1.2.0)\n",
      "Requirement already satisfied: intel-cmplr-lib-rt in /usr/local/lib/python3.10/dist-packages (from mkl_umath->numpy>=1.17->bitsandbytes) (2024.2.0)\n",
      "Requirement already satisfied: intel-cmplr-lib-ur==2024.2.0 in /usr/local/lib/python3.10/dist-packages (from intel-openmp>=2024->mkl->numpy>=1.17->bitsandbytes) (2024.2.0)\n",
      "Downloading bitsandbytes-0.45.3-py3-none-manylinux_2_24_x86_64.whl (76.1 MB)\n",
      "\u001b[2K   \u001b[90m━━━━━━━━━━━━━━━━━━━━━━━━━━━━━━━━━━━━━━━━\u001b[0m \u001b[32m76.1/76.1 MB\u001b[0m \u001b[31m20.1 MB/s\u001b[0m eta \u001b[36m0:00:00\u001b[0m:00:01\u001b[0m00:01\u001b[0m\n",
      "\u001b[?25hInstalling collected packages: bitsandbytes\n",
      "Successfully installed bitsandbytes-0.45.3\n",
      "Requirement already satisfied: transformers in /usr/local/lib/python3.10/dist-packages (4.47.0)\n",
      "Collecting transformers\n",
      "  Downloading transformers-4.49.0-py3-none-any.whl.metadata (44 kB)\n",
      "\u001b[2K     \u001b[90m━━━━━━━━━━━━━━━━━━━━━━━━━━━━━━━━━━━━━━━━\u001b[0m \u001b[32m44.0/44.0 kB\u001b[0m \u001b[31m2.0 MB/s\u001b[0m eta \u001b[36m0:00:00\u001b[0m\n",
      "\u001b[?25hRequirement already satisfied: accelerate in /usr/local/lib/python3.10/dist-packages (1.2.1)\n",
      "Collecting accelerate\n",
      "  Downloading accelerate-1.5.2-py3-none-any.whl.metadata (19 kB)\n",
      "Requirement already satisfied: filelock in /usr/local/lib/python3.10/dist-packages (from transformers) (3.17.0)\n",
      "Requirement already satisfied: huggingface-hub<1.0,>=0.26.0 in /usr/local/lib/python3.10/dist-packages (from transformers) (0.29.0)\n",
      "Requirement already satisfied: numpy>=1.17 in /usr/local/lib/python3.10/dist-packages (from transformers) (1.26.4)\n",
      "Requirement already satisfied: packaging>=20.0 in /usr/local/lib/python3.10/dist-packages (from transformers) (24.2)\n",
      "Requirement already satisfied: pyyaml>=5.1 in /usr/local/lib/python3.10/dist-packages (from transformers) (6.0.2)\n",
      "Requirement already satisfied: regex!=2019.12.17 in /usr/local/lib/python3.10/dist-packages (from transformers) (2024.11.6)\n",
      "Requirement already satisfied: requests in /usr/local/lib/python3.10/dist-packages (from transformers) (2.32.3)\n",
      "Requirement already satisfied: tokenizers<0.22,>=0.21 in /usr/local/lib/python3.10/dist-packages (from transformers) (0.21.0)\n",
      "Requirement already satisfied: safetensors>=0.4.1 in /usr/local/lib/python3.10/dist-packages (from transformers) (0.4.5)\n",
      "Requirement already satisfied: tqdm>=4.27 in /usr/local/lib/python3.10/dist-packages (from transformers) (4.67.1)\n",
      "Requirement already satisfied: psutil in /usr/local/lib/python3.10/dist-packages (from accelerate) (5.9.5)\n",
      "Requirement already satisfied: torch>=2.0.0 in /usr/local/lib/python3.10/dist-packages (from accelerate) (2.5.1+cu121)\n",
      "Requirement already satisfied: fsspec>=2023.5.0 in /usr/local/lib/python3.10/dist-packages (from huggingface-hub<1.0,>=0.26.0->transformers) (2024.12.0)\n",
      "Requirement already satisfied: typing-extensions>=3.7.4.3 in /usr/local/lib/python3.10/dist-packages (from huggingface-hub<1.0,>=0.26.0->transformers) (4.12.2)\n",
      "Requirement already satisfied: mkl_fft in /usr/local/lib/python3.10/dist-packages (from numpy>=1.17->transformers) (1.3.8)\n",
      "Requirement already satisfied: mkl_random in /usr/local/lib/python3.10/dist-packages (from numpy>=1.17->transformers) (1.2.4)\n",
      "Requirement already satisfied: mkl_umath in /usr/local/lib/python3.10/dist-packages (from numpy>=1.17->transformers) (0.1.1)\n",
      "Requirement already satisfied: mkl in /usr/local/lib/python3.10/dist-packages (from numpy>=1.17->transformers) (2025.0.1)\n",
      "Requirement already satisfied: tbb4py in /usr/local/lib/python3.10/dist-packages (from numpy>=1.17->transformers) (2022.0.0)\n",
      "Requirement already satisfied: mkl-service in /usr/local/lib/python3.10/dist-packages (from numpy>=1.17->transformers) (2.4.1)\n",
      "Requirement already satisfied: networkx in /usr/local/lib/python3.10/dist-packages (from torch>=2.0.0->accelerate) (3.4.2)\n",
      "Requirement already satisfied: jinja2 in /usr/local/lib/python3.10/dist-packages (from torch>=2.0.0->accelerate) (3.1.4)\n",
      "Requirement already satisfied: sympy==1.13.1 in /usr/local/lib/python3.10/dist-packages (from torch>=2.0.0->accelerate) (1.13.1)\n",
      "Requirement already satisfied: mpmath<1.4,>=1.1.0 in /usr/local/lib/python3.10/dist-packages (from sympy==1.13.1->torch>=2.0.0->accelerate) (1.3.0)\n",
      "Requirement already satisfied: charset-normalizer<4,>=2 in /usr/local/lib/python3.10/dist-packages (from requests->transformers) (3.4.1)\n",
      "Requirement already satisfied: idna<4,>=2.5 in /usr/local/lib/python3.10/dist-packages (from requests->transformers) (3.10)\n",
      "Requirement already satisfied: urllib3<3,>=1.21.1 in /usr/local/lib/python3.10/dist-packages (from requests->transformers) (2.3.0)\n",
      "Requirement already satisfied: certifi>=2017.4.17 in /usr/local/lib/python3.10/dist-packages (from requests->transformers) (2025.1.31)\n",
      "Requirement already satisfied: MarkupSafe>=2.0 in /usr/local/lib/python3.10/dist-packages (from jinja2->torch>=2.0.0->accelerate) (3.0.2)\n",
      "Requirement already satisfied: intel-openmp>=2024 in /usr/local/lib/python3.10/dist-packages (from mkl->numpy>=1.17->transformers) (2024.2.0)\n",
      "Requirement already satisfied: tbb==2022.* in /usr/local/lib/python3.10/dist-packages (from mkl->numpy>=1.17->transformers) (2022.0.0)\n",
      "Requirement already satisfied: tcmlib==1.* in /usr/local/lib/python3.10/dist-packages (from tbb==2022.*->mkl->numpy>=1.17->transformers) (1.2.0)\n",
      "Requirement already satisfied: intel-cmplr-lib-rt in /usr/local/lib/python3.10/dist-packages (from mkl_umath->numpy>=1.17->transformers) (2024.2.0)\n",
      "Requirement already satisfied: intel-cmplr-lib-ur==2024.2.0 in /usr/local/lib/python3.10/dist-packages (from intel-openmp>=2024->mkl->numpy>=1.17->transformers) (2024.2.0)\n",
      "Downloading transformers-4.49.0-py3-none-any.whl (10.0 MB)\n",
      "\u001b[2K   \u001b[90m━━━━━━━━━━━━━━━━━━━━━━━━━━━━━━━━━━━━━━━━\u001b[0m \u001b[32m10.0/10.0 MB\u001b[0m \u001b[31m68.7 MB/s\u001b[0m eta \u001b[36m0:00:00\u001b[0m:00:01\u001b[0m:01\u001b[0m\n",
      "\u001b[?25hDownloading accelerate-1.5.2-py3-none-any.whl (345 kB)\n",
      "\u001b[2K   \u001b[90m━━━━━━━━━━━━━━━━━━━━━━━━━━━━━━━━━━━━━━━━\u001b[0m \u001b[32m345.1/345.1 kB\u001b[0m \u001b[31m22.2 MB/s\u001b[0m eta \u001b[36m0:00:00\u001b[0m\n",
      "\u001b[?25hInstalling collected packages: transformers, accelerate\n",
      "  Attempting uninstall: transformers\n",
      "    Found existing installation: transformers 4.47.0\n",
      "    Uninstalling transformers-4.47.0:\n",
      "      Successfully uninstalled transformers-4.47.0\n",
      "  Attempting uninstall: accelerate\n",
      "    Found existing installation: accelerate 1.2.1\n",
      "    Uninstalling accelerate-1.2.1:\n",
      "      Successfully uninstalled accelerate-1.2.1\n",
      "Successfully installed accelerate-1.5.2 transformers-4.49.0\n"
     ]
    }
   ],
   "source": [
    "!pip install -U bitsandbytes\n",
    "!pip install -U transformers accelerate"
   ]
  },
  {
   "cell_type": "code",
   "execution_count": 2,
   "metadata": {
    "execution": {
     "iopub.execute_input": "2025-03-16T02:50:01.439769Z",
     "iopub.status.busy": "2025-03-16T02:50:01.439442Z",
     "iopub.status.idle": "2025-03-16T02:50:05.114124Z",
     "shell.execute_reply": "2025-03-16T02:50:05.113272Z",
     "shell.execute_reply.started": "2025-03-16T02:50:01.439736Z"
    },
    "trusted": true
   },
   "outputs": [
    {
     "name": "stdout",
     "output_type": "stream",
     "text": [
      "Collecting dotenv\n",
      "  Downloading dotenv-0.9.9-py2.py3-none-any.whl.metadata (279 bytes)\n",
      "Collecting python-dotenv (from dotenv)\n",
      "  Downloading python_dotenv-1.0.1-py3-none-any.whl.metadata (23 kB)\n",
      "Downloading dotenv-0.9.9-py2.py3-none-any.whl (1.9 kB)\n",
      "Downloading python_dotenv-1.0.1-py3-none-any.whl (19 kB)\n",
      "Installing collected packages: python-dotenv, dotenv\n",
      "Successfully installed dotenv-0.9.9 python-dotenv-1.0.1\n"
     ]
    }
   ],
   "source": [
    "!pip install dotenv"
   ]
  },
  {
   "cell_type": "code",
   "execution_count": 3,
   "metadata": {
    "execution": {
     "iopub.execute_input": "2025-03-16T02:50:05.115875Z",
     "iopub.status.busy": "2025-03-16T02:50:05.115611Z",
     "iopub.status.idle": "2025-03-16T02:50:08.736901Z",
     "shell.execute_reply": "2025-03-16T02:50:08.735861Z",
     "shell.execute_reply.started": "2025-03-16T02:50:05.115841Z"
    },
    "trusted": true
   },
   "outputs": [
    {
     "name": "stdout",
     "output_type": "stream",
     "text": [
      "Collecting flask_cors\n",
      "  Downloading flask_cors-5.0.1-py3-none-any.whl.metadata (961 bytes)\n",
      "Requirement already satisfied: flask>=0.9 in /usr/local/lib/python3.10/dist-packages (from flask_cors) (3.1.0)\n",
      "Requirement already satisfied: Werkzeug>=0.7 in /usr/local/lib/python3.10/dist-packages (from flask_cors) (3.1.3)\n",
      "Requirement already satisfied: Jinja2>=3.1.2 in /usr/local/lib/python3.10/dist-packages (from flask>=0.9->flask_cors) (3.1.4)\n",
      "Requirement already satisfied: itsdangerous>=2.2 in /usr/local/lib/python3.10/dist-packages (from flask>=0.9->flask_cors) (2.2.0)\n",
      "Requirement already satisfied: click>=8.1.3 in /usr/local/lib/python3.10/dist-packages (from flask>=0.9->flask_cors) (8.1.7)\n",
      "Requirement already satisfied: blinker>=1.9 in /usr/local/lib/python3.10/dist-packages (from flask>=0.9->flask_cors) (1.9.0)\n",
      "Requirement already satisfied: MarkupSafe>=2.1.1 in /usr/local/lib/python3.10/dist-packages (from Werkzeug>=0.7->flask_cors) (3.0.2)\n",
      "Downloading flask_cors-5.0.1-py3-none-any.whl (11 kB)\n",
      "Installing collected packages: flask_cors\n",
      "Successfully installed flask_cors-5.0.1\n"
     ]
    }
   ],
   "source": [
    "!pip install flask_cors"
   ]
  },
  {
   "cell_type": "code",
   "execution_count": 4,
   "metadata": {
    "execution": {
     "iopub.execute_input": "2025-03-16T02:50:08.738864Z",
     "iopub.status.busy": "2025-03-16T02:50:08.738479Z",
     "iopub.status.idle": "2025-03-16T02:50:12.368570Z",
     "shell.execute_reply": "2025-03-16T02:50:12.367761Z",
     "shell.execute_reply.started": "2025-03-16T02:50:08.738835Z"
    },
    "trusted": true
   },
   "outputs": [
    {
     "name": "stdout",
     "output_type": "stream",
     "text": [
      "Collecting pyngrok\n",
      "  Downloading pyngrok-7.2.3-py3-none-any.whl.metadata (8.7 kB)\n",
      "Requirement already satisfied: PyYAML>=5.1 in /usr/local/lib/python3.10/dist-packages (from pyngrok) (6.0.2)\n",
      "Downloading pyngrok-7.2.3-py3-none-any.whl (23 kB)\n",
      "Installing collected packages: pyngrok\n",
      "Successfully installed pyngrok-7.2.3\n"
     ]
    }
   ],
   "source": [
    "!pip install pyngrok"
   ]
  },
  {
   "cell_type": "code",
   "execution_count": 5,
   "metadata": {
    "execution": {
     "iopub.execute_input": "2025-03-16T02:50:12.369725Z",
     "iopub.status.busy": "2025-03-16T02:50:12.369462Z",
     "iopub.status.idle": "2025-03-16T02:50:33.000139Z",
     "shell.execute_reply": "2025-03-16T02:50:32.999375Z",
     "shell.execute_reply.started": "2025-03-16T02:50:12.369703Z"
    },
    "trusted": true
   },
   "outputs": [],
   "source": [
    "from flask import Flask, render_template, request, jsonify\n",
    "import os\n",
    "import torch\n",
    "import json\n",
    "import re\n",
    "from dotenv import load_dotenv\n",
    "from peft import PeftModel\n",
    "from transformers import AutoModelForCausalLM, AutoTokenizer, BitsAndBytesConfig\n",
    "from huggingface_hub import login"
   ]
  },
  {
   "cell_type": "code",
   "execution_count": null,
   "metadata": {
    "execution": {
     "iopub.execute_input": "2025-03-16T02:50:33.001535Z",
     "iopub.status.busy": "2025-03-16T02:50:33.000938Z",
     "iopub.status.idle": "2025-03-16T02:50:58.011382Z",
     "shell.execute_reply": "2025-03-16T02:50:58.010779Z",
     "shell.execute_reply.started": "2025-03-16T02:50:33.001502Z"
    },
    "trusted": true
   },
   "outputs": [
    {
     "data": {
      "application/vnd.jupyter.widget-view+json": {
       "model_id": "80f010ad1a9a4050910730f1b43c85ab",
       "version_major": 2,
       "version_minor": 0
      },
      "text/plain": [
       "tokenizer_config.json:   0%|          | 0.00/3.07k [00:00<?, ?B/s]"
      ]
     },
     "metadata": {},
     "output_type": "display_data"
    },
    {
     "data": {
      "application/vnd.jupyter.widget-view+json": {
       "model_id": "e87e2e798efa49fcaba668984a33b122",
       "version_major": 2,
       "version_minor": 0
      },
      "text/plain": [
       "tokenizer.json:   0%|          | 0.00/7.03M [00:00<?, ?B/s]"
      ]
     },
     "metadata": {},
     "output_type": "display_data"
    },
    {
     "data": {
      "application/vnd.jupyter.widget-view+json": {
       "model_id": "56577a1a0c8744fd9e04a2bbbdc4145f",
       "version_major": 2,
       "version_minor": 0
      },
      "text/plain": [
       "config.json:   0%|          | 0.00/679 [00:00<?, ?B/s]"
      ]
     },
     "metadata": {},
     "output_type": "display_data"
    },
    {
     "data": {
      "application/vnd.jupyter.widget-view+json": {
       "model_id": "27a6df1104a1434dbe8fb9a7caeba022",
       "version_major": 2,
       "version_minor": 0
      },
      "text/plain": [
       "model.safetensors:   0%|          | 0.00/3.55G [00:00<?, ?B/s]"
      ]
     },
     "metadata": {},
     "output_type": "display_data"
    },
    {
     "name": "stderr",
     "output_type": "stream",
     "text": [
      "Sliding Window Attention is enabled but not implemented for `sdpa`; unexpected results may be encountered.\n"
     ]
    },
    {
     "data": {
      "application/vnd.jupyter.widget-view+json": {
       "model_id": "d4e1477a09924545a8b1079d47286875",
       "version_major": 2,
       "version_minor": 0
      },
      "text/plain": [
       "generation_config.json:   0%|          | 0.00/181 [00:00<?, ?B/s]"
      ]
     },
     "metadata": {},
     "output_type": "display_data"
    },
    {
     "data": {
      "application/vnd.jupyter.widget-view+json": {
       "model_id": "0cca5b05e03c4ef2a0f65ebf33c3eeee",
       "version_major": 2,
       "version_minor": 0
      },
      "text/plain": [
       "adapter_config.json:   0%|          | 0.00/737 [00:00<?, ?B/s]"
      ]
     },
     "metadata": {},
     "output_type": "display_data"
    },
    {
     "data": {
      "application/vnd.jupyter.widget-view+json": {
       "model_id": "c35b0fe807834d01b17ce288a58360e9",
       "version_major": 2,
       "version_minor": 0
      },
      "text/plain": [
       "adapter_model.safetensors:   0%|          | 0.00/4.37M [00:00<?, ?B/s]"
      ]
     },
     "metadata": {},
     "output_type": "display_data"
    }
   ],
   "source": [
    "import getpass\n",
    "\n",
    "hugging_token = getpass.getpass(\"Enter your Hugging Face Token: \")\n",
    "login(token=hugging_token)\n",
    "\n",
    "base_model_name = \"deepseek-ai/DeepSeek-R1-Distill-Qwen-1.5B\"\n",
    "lora_model_name = \"jialeCharlotte/finbot\"\n",
    "\n",
    "tokenizer = AutoTokenizer.from_pretrained(base_model_name,use_fast=True)\n",
    "tokenizer.pad_token = tokenizer.eos_token\n",
    "tokenizer.pad_token_id = tokenizer.eos_token_id\n",
    "\n",
    "bnb_config = BitsAndBytesConfig(\n",
    "    load_in_4bit=True,\n",
    "    bnb_4bit_use_double_quant=True,\n",
    "    bnb_4bit_quant_type=\"fp4\",\n",
    "    bnb_4bit_compute_dtype=torch.float16\n",
    ")\n",
    "model = AutoModelForCausalLM.from_pretrained(\n",
    "    base_model_name,\n",
    "    quantization_config=bnb_config, \n",
    "    torch_dtype=torch.float16,\n",
    "    device_map=\"auto\"\n",
    ")\n",
    "model = PeftModel.from_pretrained(model, lora_model_name)\n",
    "\n",
    "model.config.use_cache = False\n",
    "model.config.sliding_window = None"
   ]
  },
  {
   "cell_type": "code",
   "execution_count": 7,
   "metadata": {
    "execution": {
     "iopub.execute_input": "2025-03-16T02:50:58.012513Z",
     "iopub.status.busy": "2025-03-16T02:50:58.012195Z",
     "iopub.status.idle": "2025-03-16T02:50:58.037886Z",
     "shell.execute_reply": "2025-03-16T02:50:58.037237Z",
     "shell.execute_reply.started": "2025-03-16T02:50:58.012481Z"
    },
    "trusted": true
   },
   "outputs": [
    {
     "data": {
      "text/plain": [
       "'/kaggle/working/WebDeployment'"
      ]
     },
     "execution_count": 7,
     "metadata": {},
     "output_type": "execute_result"
    }
   ],
   "source": [
    "import shutil\n",
    "\n",
    "shutil.copytree('/kaggle/input/app/transformers/default/1/WebDeployment', '/kaggle/working/WebDeployment', dirs_exist_ok=True)"
   ]
  },
  {
   "cell_type": "code",
   "execution_count": 8,
   "metadata": {
    "_cell_guid": "b1076dfc-b9ad-4769-8c92-a6c4dae69d19",
    "_uuid": "8f2839f25d086af736a60e9eeb907d3b93b6e0e5",
    "execution": {
     "iopub.execute_input": "2025-03-16T02:50:58.040097Z",
     "iopub.status.busy": "2025-03-16T02:50:58.039882Z",
     "iopub.status.idle": "2025-03-16T02:51:02.183528Z",
     "shell.execute_reply": "2025-03-16T02:51:02.181622Z",
     "shell.execute_reply.started": "2025-03-16T02:50:58.040079Z"
    },
    "trusted": true
   },
   "outputs": [
    {
     "name": "stdout",
     "output_type": "stream",
     "text": [
      "Flask app is running at: http://0.0.0.0:5000/\n",
      " * Serving Flask app '__main__'\n",
      " * Debug mode: on\n"
     ]
    }
   ],
   "source": [
    "from threading import Thread\n",
    "from flask_cors import CORS\n",
    "\n",
    "# Load environment variables\n",
    "load_dotenv()\n",
    "\n",
    "# Initialize Flask app\n",
    "app = Flask(__name__, template_folder='/kaggle/working/WebDeployment/templates',\n",
    "                      static_folder='/kaggle/working/WebDeployment/static')\n",
    "CORS(app) \n",
    "\n",
    "@app.route('/')\n",
    "def home():\n",
    "    return render_template('index.html')\n",
    "\n",
    "@app.route('/analyze', methods=['POST'])\n",
    "def analyze_sentiment():\n",
    "    data = request.json\n",
    "    title = data.get('title', '')\n",
    "    description = data.get('description', '')\n",
    "    ticker = data.get('ticker', '')\n",
    "    \n",
    "    # Create the prompt\n",
    "    prompt = f\"\"\"You are a financial analyst in a leading hedge fund. \n",
    "Analyze the sentiment of the following financial news for the given stock ticker step by step.\n",
    "\n",
    "Title: \"{title}\"\n",
    "Summary: \"{description}\"\n",
    "Stock Ticker: {ticker}\n",
    "\n",
    "Step 1: Identify key financial terms and their implications.\n",
    "Step 2: Determine whether the news suggests market optimism, pessimism, or neutrality for this specific stock.\n",
    "Step 3: Based on your analysis, classify the sentiment into one of the following categories:\n",
    "- \"Bullish\": If the news suggests confidence, growth, or positive impact on this stock.\n",
    "- \"Bearish\": If the news suggests decline, risks, or negative impact on this stock.\n",
    "- \"Neutral\": If the news is ambiguous or does not convey strong sentiment.\n",
    "\n",
    "Finally, **return only** the final result in valid JSON format, with the structure:\n",
    "{{\n",
    "  \"ticker\": \"{ticker}\",\n",
    "  \"sentiment\": \"Bullish\" | \"Bearish\" | \"Neutral\",\n",
    "  \"sentiment_reasoning\": \"Provide a brief explanation of the sentiment analysis.\"\n",
    "}}\n",
    "\n",
    "Do not include any extra text or explanations outside the JSON.\n",
    "### Response:\n",
    "(Return a valid JSON format only. Do not repeat the prompt.)\n",
    "\"\"\"\n",
    "    \n",
    "    try:\n",
    "        # Using the exact same generation code pattern as in Kaggle\n",
    "        # Tokenize the prompt\n",
    "        inputs = tokenizer(prompt, return_tensors=\"pt\", truncation=True, max_length=512, padding=\"max_length\")\n",
    "        \n",
    "        # Move all tensors inside inputs to the correct device\n",
    "        device_to_use = \"cuda\" if torch.cuda.is_available() else \"cpu\"\n",
    "        inputs = {key: value.to(device_to_use) for key, value in inputs.items()}\n",
    "        \n",
    "        # Text generation\n",
    "        with torch.no_grad():\n",
    "            output = model.generate(\n",
    "                **inputs,\n",
    "                max_new_tokens=100,\n",
    "                early_stopping=False,\n",
    "                do_sample=True,\n",
    "                num_return_sequences=1,\n",
    "                num_beams=1,\n",
    "                return_dict_in_generate=True\n",
    "            )\n",
    "        \n",
    "        # Extract only the newly generated part\n",
    "        generated_tokens = output.sequences[:, inputs[\"input_ids\"].shape[-1]:]\n",
    "        generated_text = tokenizer.decode(generated_tokens[0], skip_special_tokens=True).strip()\n",
    "        \n",
    "        print(\"Generated Text:\\n\", generated_text)\n",
    "        \n",
    "        # Use the exact same JSON extraction method as in Kaggle\n",
    "        try:\n",
    "            json_text = (re.search(r'\\{.*?\\}', generated_text, re.DOTALL)).group(0)    #full text \n",
    "        except Exception as e:\n",
    "            json_text = (re.search(r'\\{.*?\\}', generated_text+'.\"}\\n}\\n', re.DOTALL)).group(0) \n",
    "        if json_text.count('\"')>12:\n",
    "            extracted_json = json.loads(json_text.rsplit('\"', (json_text.count('\"')-12)+1)[0]+'\"}')\n",
    "        else:\n",
    "            extracted_json = json.loads(json_text)\n",
    "            \n",
    "        return jsonify({\"success\": True, \"response\": extracted_json})\n",
    "        \n",
    "    except Exception as e:\n",
    "        error_message = str(e)\n",
    "        print(f\"Error during generation: {error_message}\")\n",
    "        return jsonify({\"success\": False, \"error\": error_message}), 500\n",
    "\n",
    "def run_flask():\n",
    "    host = \"0.0.0.0\"\n",
    "    port = 5000\n",
    "    print(f\"Flask app is running at: http://{host}:{port}/\")\n",
    "    app.run(debug=True, use_reloader=False, host=host, port=port)\n",
    "\n",
    "flask_thread = Thread(target=run_flask)\n",
    "flask_thread.start()"
   ]
  },
  {
   "cell_type": "code",
   "execution_count": null,
   "metadata": {},
   "outputs": [],
   "source": [
    "ngrok_token = getpass.getpass(\"Enter your ngrok Token: \")"
   ]
  },
  {
   "cell_type": "code",
   "execution_count": null,
   "metadata": {
    "execution": {
     "iopub.execute_input": "2025-03-16T02:51:07.585939Z",
     "iopub.status.busy": "2025-03-16T02:51:07.585667Z",
     "iopub.status.idle": "2025-03-16T02:51:09.229837Z",
     "shell.execute_reply": "2025-03-16T02:51:09.228654Z",
     "shell.execute_reply.started": "2025-03-16T02:51:07.585905Z"
    },
    "trusted": true
   },
   "outputs": [
    {
     "name": "stdout",
     "output_type": "stream",
     "text": [
      "Authtoken saved to configuration file: /root/.config/ngrok/ngrok.yml                                \n"
     ]
    }
   ],
   "source": [
    "!ngrok authtoken ngrok_token"
   ]
  },
  {
   "cell_type": "code",
   "execution_count": 12,
   "metadata": {
    "execution": {
     "iopub.execute_input": "2025-03-16T02:51:09.231704Z",
     "iopub.status.busy": "2025-03-16T02:51:09.231305Z",
     "iopub.status.idle": "2025-03-16T02:51:09.583965Z",
     "shell.execute_reply": "2025-03-16T02:51:09.583238Z",
     "shell.execute_reply.started": "2025-03-16T02:51:09.231670Z"
    },
    "trusted": true
   },
   "outputs": [
    {
     "name": "stdout",
     "output_type": "stream",
     "text": [
      "Public URL: NgrokTunnel: \"https://450b-34-70-183-155.ngrok-free.app\" -> \"http://localhost:5000\"\n"
     ]
    }
   ],
   "source": [
    "from pyngrok import ngrok\n",
    "\n",
    "public_url = ngrok.connect(5000)\n",
    "print(\"Public URL:\", public_url)"
   ]
  },
  {
   "cell_type": "code",
   "execution_count": 13,
   "metadata": {
    "execution": {
     "iopub.execute_input": "2025-03-16T02:51:09.585073Z",
     "iopub.status.busy": "2025-03-16T02:51:09.584855Z",
     "iopub.status.idle": "2025-03-16T02:51:10.689680Z",
     "shell.execute_reply": "2025-03-16T02:51:10.688702Z",
     "shell.execute_reply.started": "2025-03-16T02:51:09.585054Z"
    },
    "trusted": true
   },
   "outputs": [
    {
     "name": "stdout",
     "output_type": "stream",
     "text": [
      "COMMAND PID USER   FD   TYPE DEVICE SIZE/OFF NODE NAME\n",
      "python3  31 root  108u  IPv4  24870      0t0  TCP *:5000 (LISTEN)\n"
     ]
    }
   ],
   "source": [
    "!lsof -i :5000"
   ]
  },
  {
   "cell_type": "code",
   "execution_count": 14,
   "metadata": {
    "execution": {
     "iopub.execute_input": "2025-03-16T02:51:10.691144Z",
     "iopub.status.busy": "2025-03-16T02:51:10.690780Z",
     "iopub.status.idle": "2025-03-16T02:51:10.958699Z",
     "shell.execute_reply": "2025-03-16T02:51:10.957772Z",
     "shell.execute_reply.started": "2025-03-16T02:51:10.691111Z"
    },
    "trusted": true
   },
   "outputs": [
    {
     "name": "stdout",
     "output_type": "stream",
     "text": [
      "{\"tunnels\":[{\"name\":\"http-5000-f7e3d0ee-9487-4d5d-8795-6f8564c74069\",\"ID\":\"50fb4c5b66cd86c96b3832ced0c67946\",\"uri\":\"/api/tunnels/http-5000-f7e3d0ee-9487-4d5d-8795-6f8564c74069\",\"public_url\":\"https://450b-34-70-183-155.ngrok-free.app\",\"proto\":\"https\",\"config\":{\"addr\":\"http://localhost:5000\",\"inspect\":true},\"metrics\":{\"conns\":{\"count\":0,\"gauge\":0,\"rate1\":0,\"rate5\":0,\"rate15\":0,\"p50\":0,\"p90\":0,\"p95\":0,\"p99\":0},\"http\":{\"count\":0,\"rate1\":0,\"rate5\":0,\"rate15\":0,\"p50\":0,\"p90\":0,\"p95\":0,\"p99\":0}}}],\"uri\":\"/api/tunnels\"}\n"
     ]
    }
   ],
   "source": [
    "!curl -s http://localhost:4040/api/tunnels"
   ]
  },
  {
   "cell_type": "code",
   "execution_count": 15,
   "metadata": {
    "execution": {
     "iopub.execute_input": "2025-03-16T02:51:10.959977Z",
     "iopub.status.busy": "2025-03-16T02:51:10.959707Z",
     "iopub.status.idle": "2025-03-16T02:51:11.306030Z",
     "shell.execute_reply": "2025-03-16T02:51:11.305035Z",
     "shell.execute_reply.started": "2025-03-16T02:51:10.959956Z"
    },
    "trusted": true
   },
   "outputs": [
    {
     "name": "stdout",
     "output_type": "stream",
     "text": [
      "*   Trying 3.22.30.40:443...\n",
      "* Connected to 91d5-34-45-61-148.ngrok-free.app (3.22.30.40) port 443 (#0)\n",
      "* ALPN, offering h2\n",
      "* ALPN, offering http/1.1\n",
      "*  CAfile: /etc/ssl/certs/ca-certificates.crt\n",
      "*  CApath: /etc/ssl/certs\n",
      "* TLSv1.0 (OUT), TLS header, Certificate Status (22):\n",
      "* TLSv1.3 (OUT), TLS handshake, Client hello (1):\n",
      "* TLSv1.2 (IN), TLS header, Certificate Status (22):\n",
      "* TLSv1.3 (IN), TLS handshake, Server hello (2):\n",
      "* TLSv1.2 (IN), TLS header, Finished (20):\n",
      "* TLSv1.2 (IN), TLS header, Supplemental data (23):\n",
      "* TLSv1.3 (IN), TLS handshake, Encrypted Extensions (8):\n",
      "* TLSv1.2 (IN), TLS header, Supplemental data (23):\n",
      "* TLSv1.3 (IN), TLS handshake, Certificate (11):\n",
      "* TLSv1.2 (IN), TLS header, Supplemental data (23):\n",
      "* TLSv1.3 (IN), TLS handshake, CERT verify (15):\n",
      "* TLSv1.2 (IN), TLS header, Supplemental data (23):\n",
      "* TLSv1.3 (IN), TLS handshake, Finished (20):\n",
      "* TLSv1.2 (OUT), TLS header, Finished (20):\n",
      "* TLSv1.3 (OUT), TLS change cipher, Change cipher spec (1):\n",
      "* TLSv1.2 (OUT), TLS header, Supplemental data (23):\n",
      "* TLSv1.3 (OUT), TLS handshake, Finished (20):\n",
      "* SSL connection using TLSv1.3 / TLS_AES_128_GCM_SHA256\n",
      "* ALPN, server did not agree to a protocol\n",
      "* Server certificate:\n",
      "*  subject: CN=*.ngrok-free.app\n",
      "*  start date: Feb  2 17:27:40 2025 GMT\n",
      "*  expire date: May  3 17:27:39 2025 GMT\n",
      "*  subjectAltName: host \"91d5-34-45-61-148.ngrok-free.app\" matched cert's \"*.ngrok-free.app\"\n",
      "*  issuer: C=US; O=Let's Encrypt; CN=E5\n",
      "*  SSL certificate verify ok.\n",
      "* TLSv1.2 (OUT), TLS header, Supplemental data (23):\n",
      "> GET / HTTP/1.1\n",
      "> Host: 91d5-34-45-61-148.ngrok-free.app\n",
      "> User-Agent: curl/7.81.0\n",
      "> Accept: */*\n",
      "> \n",
      "* TLSv1.2 (IN), TLS header, Supplemental data (23):\n",
      "* TLSv1.3 (IN), TLS handshake, Newsession Ticket (4):\n",
      "* TLSv1.2 (IN), TLS header, Supplemental data (23):\n",
      "* Mark bundle as not supporting multiuse\n",
      "< HTTP/1.1 404 Not Found\n",
      "< Connection: close\n",
      "< Content-Type: text/html\n",
      "< Ngrok-Error-Code: ERR_NGROK_3200\n",
      "< Referrer-Policy: no-referrer\n",
      "< Date: Sun, 16 Mar 2025 02:51:11 GMT\n",
      "< Transfer-Encoding: chunked\n",
      "< \n",
      "<!DOCTYPE html>\n",
      "<html class=\"h-full\" lang=\"en-US\" dir=\"ltr\">\n",
      "  <head>\n",
      "    <link rel=\"preload\" href=\"https://cdn.ngrok.com/static/fonts/euclid-square/EuclidSquare-Regular-WebS.woff\" as=\"font\" type=\"font/woff\" crossorigin=\"anonymous\" />\n",
      "    <link rel=\"preload\" href=\"https://cdn.ngrok.com/static/fonts/euclid-square/EuclidSquare-RegularItalic-WebS.woff\" as=\"font\" type=\"font/woff\" crossorigin=\"anonymous\" />\n",
      "    <link rel=\"preload\" href=\"https://cdn.ngrok.com/static/fonts/euclid-square/EuclidSquare-Medium-WebS.woff\" as=\"font\" type=\"font/woff\" crossorigin=\"anonymous\" />\n",
      "    <link rel=\"preload\" href=\"https://cdn.ngrok.com/static/fonts/euclid-square/EuclidSquare-Semibold-WebS.woff\" as=\"font\" type=\"font/woff\" crossorigin=\"anonymous\" />\n",
      "    <link rel=\"preload\" href=\"https://cdn.ngrok.com/static/fonts/euclid-square/EuclidSquare-MediumItalic-WebS.woff\" as=\"font\" type=\"font/woff\" crossorigin=\"anonymous\" />\n",
      "* TLSv1.2 (IN), TLS header, Supplemental data (23):\n",
      "    <link rel=\"preload\" href=\"https://cdn.ngrok.com/static/fonts/ibm-plex-mono/IBMPlexMono-Text.woff\" as=\"font\" type=\"font/woff\" crossorigin=\"anonymous\" />\n",
      "    <link rel=\"preload\" href=\"https://cdn.ngrok.com/static/fonts/ibm-plex-mono/IBMPlexMono-TextItalic.woff\" as=\"font\" type=\"font/woff\" crossorigin=\"anonymous\" />\n",
      "    <link rel=\"preload\" href=\"https://cdn.ngrok.com/static/fonts/ibm-plex-mono/IBMPlexMono-SemiBold.woff\" as=\"font\" type=\"font/woff\" crossorigin=\"anonymous\" />\n",
      "    <link rel=\"preload\" href=\"https://cdn.ngrok.com/static/fonts/ibm-plex-mono/IBMPlexMono-SemiBoldItalic.woff\" as=\"font\" type=\"font/woff\" crossorigin=\"anonymous\" />\n",
      "    <meta charset=\"utf-8\">\n",
      "    <meta name=\"author\" content=\"ngrok\">\n",
      "    <meta name=\"description\" content=\"ngrok is the fastest way to put anything on the internet with a single command.\">\n",
      "    <meta name=\"robots\" content=\"noindex, nofollow\">\n",
      "    <meta name=\"viewport\" content=\"width=device-width, initial-scale=1\">\n",
      "    <link id=\"style\" rel=\"stylesheet\" href=\"https://cdn.ngrok.com/static/css/error.css\">\n",
      "    <noscript>The endpoint 91d5-34-45-61-148.ngrok-free.app is offline. (ERR_NGROK_3200)</noscript>\n",
      "    <script id=\"script\" src=\"https://cdn.ngrok.com/static/js/error.js\" type=\"text/javascript\"></script>\n",
      "  </head>\n",
      "  <body class=\"h-full\" id=\"ngrok\">\n",
      "    <div id=\"root\" data-payload=\"eyJjZG5CYXNlIjoiaHR0cHM6Ly9jZG4ubmdyb2suY29tLyIsImNvZGUiOiIzMjAwIiwibWVzc2FnZSI6IlRoZSBlbmRwb2ludCA5MWQ1LTM0LTQ1LTYxLTE0OC5uZ3Jvay1mcmVlLmFwcCBpcyBvZmZsaW5lLiIsInRpdGxlIjoiTm90IEZvdW5kIn0=\"></div>\n",
      "  </body>\n",
      "</html>\n",
      "* Closing connection 0\n",
      "* TLSv1.2 (IN), TLS header, Supplemental data (23):\n",
      "* TLSv1.3 (IN), TLS alert, close notify (256):\n",
      "* TLSv1.2 (OUT), TLS header, Supplemental data (23):\n",
      "* TLSv1.3 (OUT), TLS alert, close notify (256):\n"
     ]
    },
    {
     "name": "stderr",
     "output_type": "stream",
     "text": [
      "Setting `pad_token_id` to `eos_token_id`:151643 for open-end generation.\n"
     ]
    },
    {
     "name": "stdout",
     "output_type": "stream",
     "text": [
      "Generated Text:\n",
      " {\"ticker\": \"AAPL\", \"sentiment\": \"Bullish\", \"sentiment_reasoning\": \"The article highlights the success of Apple's MacBook Air, which is the top selling laptop in the market. Apple has been a major player in the laptop industry, with its products being widely popular and successful, and the company's recent acquisition of the company has further boosted its market share.\"}\n"
     ]
    },
    {
     "name": "stderr",
     "output_type": "stream",
     "text": [
      "Setting `pad_token_id` to `eos_token_id`:151643 for open-end generation.\n"
     ]
    },
    {
     "name": "stdout",
     "output_type": "stream",
     "text": [
      "Generated Text:\n",
      " {\"ticker\": \"AAPL\", \"sentiment\": \"Bullish\", \"sentiment_reasoning\": \"The article highlights that Apple Inc. achieved record-breaking revenue in Q1 2025, exceeding analyst expectations by 15%.\"}\n"
     ]
    }
   ],
   "source": [
    "!curl -v https://91d5-34-45-61-148.ngrok-free.app/"
   ]
  }
 ],
 "metadata": {
  "kaggle": {
   "accelerator": "nvidiaTeslaT4",
   "dataSources": [
    {
     "isSourceIdPinned": true,
     "modelId": 268070,
     "modelInstanceId": 246477,
     "sourceId": 287656,
     "sourceType": "modelInstanceVersion"
    }
   ],
   "dockerImageVersionId": 30919,
   "isGpuEnabled": true,
   "isInternetEnabled": true,
   "language": "python",
   "sourceType": "notebook"
  },
  "kernelspec": {
   "display_name": "Python 3",
   "language": "python",
   "name": "python3"
  },
  "language_info": {
   "codemirror_mode": {
    "name": "ipython",
    "version": 3
   },
   "file_extension": ".py",
   "mimetype": "text/x-python",
   "name": "python",
   "nbconvert_exporter": "python",
   "pygments_lexer": "ipython3",
   "version": "3.10.12"
  }
 },
 "nbformat": 4,
 "nbformat_minor": 4
}
